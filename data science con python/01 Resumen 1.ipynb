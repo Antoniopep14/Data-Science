{
 "cells": [
  {
   "cell_type": "code",
   "execution_count": 1,
   "id": "370a36d9",
   "metadata": {},
   "outputs": [],
   "source": [
    "x = 5 #variable"
   ]
  },
  {
   "cell_type": "code",
   "execution_count": 2,
   "id": "ba069b9f",
   "metadata": {},
   "outputs": [
    {
     "data": {
      "text/plain": [
       "5"
      ]
     },
     "execution_count": 2,
     "metadata": {},
     "output_type": "execute_result"
    }
   ],
   "source": [
    "x #para imprimir x pero es mas profesional usar el print"
   ]
  },
  {
   "cell_type": "code",
   "execution_count": 3,
   "id": "9b71239e",
   "metadata": {},
   "outputs": [],
   "source": [
    "x,y = (1, 2)#el parentesis no es necesario"
   ]
  },
  {
   "cell_type": "code",
   "execution_count": 4,
   "id": "414f92b1",
   "metadata": {},
   "outputs": [
    {
     "data": {
      "text/plain": [
       "1"
      ]
     },
     "execution_count": 4,
     "metadata": {},
     "output_type": "execute_result"
    }
   ],
   "source": [
    "x #el valor de x ya fue reasignado de 5 a 1 "
   ]
  },
  {
   "cell_type": "code",
   "execution_count": 5,
   "id": "095d1bf7",
   "metadata": {},
   "outputs": [
    {
     "data": {
      "text/plain": [
       "2"
      ]
     },
     "execution_count": 5,
     "metadata": {},
     "output_type": "execute_result"
    }
   ],
   "source": [
    "x\n",
    "y #al llamar 2 variables solo regresa 1 a menos que usemos print"
   ]
  },
  {
   "cell_type": "code",
   "execution_count": 6,
   "id": "8f8632e2",
   "metadata": {},
   "outputs": [
    {
     "data": {
      "text/plain": [
       "[1, 2, 3, 4]"
      ]
     },
     "execution_count": 6,
     "metadata": {},
     "output_type": "execute_result"
    }
   ],
   "source": [
    "x = [1, 2, 3, 4]\n",
    "x\n",
    "#al poner la variable sola la imprime\n",
    "#puedo ejecutar el codigo con ctrl + enter\n",
    "#con shift * enter ejecuto esto y empiezo en un cuadro nuevo nuevo\n",
    "#lo cual me permite ver el resultado de esto y avanzar\n",
    "#para recortar, copiar y pegar cuadros con codigo dentro\n",
    "#seleccionamos el cuadro y presionamos el comando sin ctrl, es decir, x, c, v\n",
    "#al estar sobre una celda y usar las flechas de arriba podemos mover la celda\n",
    "#a y b nos crean una celda arriba y abajo respectivamente de la que tenemos seleccionada\n",
    "# d 2 veces elimina una celda (d + d rapidamente)"
   ]
  },
  {
   "cell_type": "markdown",
   "id": "245e0286",
   "metadata": {},
   "source": [
    "esto es una celda markdown, se usa para documentar el codigo para ello usaremos la interfaz de arriba para el tipo de celda o usando el comando m en la celda"
   ]
  },
  {
   "cell_type": "code",
   "execution_count": 7,
   "id": "003944e6",
   "metadata": {},
   "outputs": [
    {
     "data": {
      "text/plain": [
       "[1, 2, 3, 4]"
      ]
     },
     "execution_count": 7,
     "metadata": {},
     "output_type": "execute_result"
    }
   ],
   "source": [
    "#cuando ejecutamos una celda markdown ya no podemos modificarla\n",
    "#y es el comando para una celda de codigo\n",
    "x = [1, 2, 3, 4]\n",
    "x\n",
    "#al poner la variable sola la imprime\n",
    "#puedo ejecutar el codigo con ctrl + enter\n",
    "#con shift * enter ejecuto esto y empiezo en un cuadro nuevo nuevo\n",
    "#lo cual me permite ver el resultado de esto y avanzar\n",
    "#para recortar, copiar y pegar cuadros con codigo dentro\n",
    "#seleccionamos el cuadro y presionamos el comando sin ctrl, es decir, x, c, v\n",
    "#para pegar arriba de donde estamos es shift + v"
   ]
  },
  {
   "cell_type": "code",
   "execution_count": null,
   "id": "232e890c",
   "metadata": {},
   "outputs": [],
   "source": [
    "#los comparadodres se usan igual que en python\n",
    "#lo operadores logicos tambien son not, and y or donde not false = true y viceversa\n",
    "#not nos da el resultado contrario\n",
    "#estos se ejecutan en el orden sig: not, and, or\n",
    "#tomar en cuenta al usarlos ya que el or por ejemplo se ejecuta al final\n",
    "#tambien tenemos is y is not que seria como == o !=\n",
    "\n"
   ]
  },
  {
   "cell_type": "code",
   "execution_count": 2,
   "id": "15e36d6c",
   "metadata": {},
   "outputs": [
    {
     "name": "stdout",
     "output_type": "stream",
     "text": [
      "greater\n"
     ]
    }
   ],
   "source": [
    "#ORACIONES CONDICIONALES if elif else\n",
    "#se usan igual que en python, vamos a crear una funcion usando los condicionales\n",
    "def compare_to_five(y):\n",
    "    if y > 5:\n",
    "        return \"greater\"\n",
    "    elif y < 0:\n",
    "        return \"Negative\"\n",
    "    elif y < 5:\n",
    "        return \"less\"\n",
    "    else:\n",
    "        return \"Equal\"\n",
    "print(compare_to_five(10))\n",
    "#si pusieramos alreves negartive y less al poner un numero -3\n",
    "#nos daria less por la fomra en la que el codigo se ejecuta, una vez que llega ahi\n",
    "#ya no avanza a la siguiente opcion"
   ]
  },
  {
   "cell_type": "code",
   "execution_count": 3,
   "id": "ae9b1db9",
   "metadata": {},
   "outputs": [
    {
     "data": {
      "text/plain": [
       "'less'"
      ]
     },
     "execution_count": 3,
     "metadata": {},
     "output_type": "execute_result"
    }
   ],
   "source": [
    "#otra forma de llamar a la funcion usando el print aqui es:\n",
    "compare_to_five(4)"
   ]
  },
  {
   "cell_type": "code",
   "execution_count": 6,
   "id": "4e974fa1",
   "metadata": {},
   "outputs": [
    {
     "name": "stdout",
     "output_type": "stream",
     "text": [
      "Outcome:\n"
     ]
    },
    {
     "data": {
      "text/plain": [
       "12"
      ]
     },
     "execution_count": 6,
     "metadata": {},
     "output_type": "execute_result"
    }
   ],
   "source": [
    "def plus_ten(a):\n",
    "    result = a + 10\n",
    "    #return \"outcome: \", si agregaramos 2 return solo tomaria en cuenta el primero\n",
    "    print(\"Outcome:\")\n",
    "    return result\n",
    "plus_ten(2)"
   ]
  },
  {
   "cell_type": "code",
   "execution_count": 7,
   "id": "5b7b64b7",
   "metadata": {},
   "outputs": [
    {
     "name": "stdout",
     "output_type": "stream",
     "text": [
      "250\n"
     ]
    }
   ],
   "source": [
    "#ANIDANDO FUNCIONES\n",
    "def wage(w_hours):\n",
    "    return w_hours * 25\n",
    "\n",
    "def with_bonus(w_hours):\n",
    "    return wage(w_hours) + 50\n",
    "print(with_bonus(8))"
   ]
  },
  {
   "cell_type": "code",
   "execution_count": 1,
   "id": "5b51229a",
   "metadata": {},
   "outputs": [
    {
     "name": "stdout",
     "output_type": "stream",
     "text": [
      "Parameter a equals 10\n",
      "Parameter b equals 3\n",
      "Parameter c equals 2\n"
     ]
    },
    {
     "data": {
      "text/plain": [
       "4"
      ]
     },
     "execution_count": 1,
     "metadata": {},
     "output_type": "execute_result"
    }
   ],
   "source": [
    "#FUNCIONES CON MAS DE UN PARAMETRO\n",
    "def subtract_bc(a,b,c):\n",
    "    result = a - b*c\n",
    "    print ('Parameter a equals', a)\n",
    "    print ('Parameter b equals', b)\n",
    "    print ('Parameter c equals', c)\n",
    "    return result\n",
    "\n",
    "subtract_bc(10,3,2)\n",
    "#tambien podemos asignarles los parametros directamente\n",
    "#subtract_bc(b=3, a=10, c=2)\n",
    "    "
   ]
  },
  {
   "cell_type": "code",
   "execution_count": 4,
   "id": "9f1da855",
   "metadata": {},
   "outputs": [
    {
     "data": {
      "text/plain": [
       "30"
      ]
     },
     "execution_count": 4,
     "metadata": {},
     "output_type": "execute_result"
    }
   ],
   "source": [
    "#METODOS NATIVOS DE PYTHON\n",
    "#aparte de int, float, str, type, pow, len, tenemos:\n",
    "max(10,20,30)#que nos devuelve el valor mas alto de una secuencia de numeros\n"
   ]
  },
  {
   "cell_type": "code",
   "execution_count": 5,
   "id": "9ce23cf6",
   "metadata": {},
   "outputs": [
    {
     "data": {
      "text/plain": [
       "10"
      ]
     },
     "execution_count": 5,
     "metadata": {},
     "output_type": "execute_result"
    }
   ],
   "source": [
    "min(10,20,30)#el mas bajo"
   ]
  },
  {
   "cell_type": "code",
   "execution_count": 6,
   "id": "266b73ce",
   "metadata": {},
   "outputs": [
    {
     "data": {
      "text/plain": [
       "20"
      ]
     },
     "execution_count": 6,
     "metadata": {},
     "output_type": "execute_result"
    }
   ],
   "source": [
    "abs(-20)#da el valor absoluto del argumento"
   ]
  },
  {
   "cell_type": "code",
   "execution_count": 7,
   "id": "cc2f4df4",
   "metadata": {},
   "outputs": [
    {
     "data": {
      "text/plain": [
       "10"
      ]
     },
     "execution_count": 7,
     "metadata": {},
     "output_type": "execute_result"
    }
   ],
   "source": [
    "#sum nos da la suma de sus argumentos\n",
    "list_1 = [1,2,3,4]\n",
    "sum(list_1)"
   ]
  },
  {
   "cell_type": "code",
   "execution_count": 11,
   "id": "d45406b5",
   "metadata": {},
   "outputs": [
    {
     "data": {
      "text/plain": [
       "3.55"
      ]
     },
     "execution_count": 11,
     "metadata": {},
     "output_type": "execute_result"
    }
   ],
   "source": [
    "#round recibe 2 argumentos, el primero es un float y el segundo es la cantidad de digitos que queremos que nos muestre\n",
    "#redondeado al digito final mas cercano\n",
    "round(3.5464,2)\n",
    "#si no le damos un segundo argumento redondea el numero al int mas cercano\n",
    "#round(3.5464) = 4"
   ]
  },
  {
   "cell_type": "code",
   "execution_count": null,
   "id": "704b1b7a",
   "metadata": {},
   "outputs": [],
   "source": [
    "#listas\n",
    "#la funcion del quita un elemento de la lista y recorre los siguientes elementos, es de tipo:\n",
    "#del nombrelista[indice]\n",
    "#append agrega un objeto al final de la lista\n",
    "#objeto.append(\"objeto a agregar\")\n",
    "#extend agrega una lista a otra lista\n",
    "#objeto.extend(['objeto1', 'objeto2'])\n",
    "#la funcion len, ademas de contar los caracteres de un str\n",
    "#tambien nos puede devolver cuantos elementos tiene una lista, es importante saber eso\n"
   ]
  },
  {
   "cell_type": "code",
   "execution_count": null,
   "id": "90f759f4",
   "metadata": {},
   "outputs": [],
   "source": [
    "#para ver la posicion de nu elemento en una lista\n",
    "#objeto.index('objetobuscado')#nos dara su indice\n",
    "#para ordenar una lista usamos\n",
    "#objeto.sort()\n",
    "#objeto.sort(reverse=true)"
   ]
  },
  {
   "cell_type": "code",
   "execution_count": 1,
   "id": "9f9db874",
   "metadata": {},
   "outputs": [
    {
     "name": "stdout",
     "output_type": "stream",
     "text": [
      "30\n",
      "17\n"
     ]
    }
   ],
   "source": [
    "#podemos asignar valores usando el metodo de split\n",
    "(age, years) = \"30,17\".split(',')\n",
    "print(age)\n",
    "print(years)"
   ]
  },
  {
   "cell_type": "code",
   "execution_count": 2,
   "id": "9798f5a8",
   "metadata": {},
   "outputs": [
    {
     "data": {
      "text/plain": [
       "'dog'"
      ]
     },
     "execution_count": 2,
     "metadata": {},
     "output_type": "execute_result"
    }
   ],
   "source": [
    "#podemos acceder a valores de diccionario mediante sus claves-valor en lugar de su indice\n",
    "dict = {'k1':\"cat\", 'k2':\"dog\", 'k3':\"mouse\"}\n",
    "dict['k2']"
   ]
  },
  {
   "cell_type": "code",
   "execution_count": 3,
   "id": "787d4dbf",
   "metadata": {},
   "outputs": [
    {
     "data": {
      "text/plain": [
       "{'k1': 'cat', 'k2': 'dog', 'k3': 'mouse', 'k4': 'parrot'}"
      ]
     },
     "execution_count": 3,
     "metadata": {},
     "output_type": "execute_result"
    }
   ],
   "source": [
    "#añadir valores\n",
    "dict['k4'] = \"parrot\"\n",
    "dict"
   ]
  },
  {
   "cell_type": "code",
   "execution_count": 4,
   "id": "9e98579b",
   "metadata": {},
   "outputs": [
    {
     "data": {
      "text/plain": [
       "{'k1': 'cat', 'k2': 'squirrel', 'k3': 'mouse', 'k4': 'parrot'}"
      ]
     },
     "execution_count": 4,
     "metadata": {},
     "output_type": "execute_result"
    }
   ],
   "source": [
    "#cambiar valores de un diccionario\n",
    "dict['k2'] = \"squirrel\"\n",
    "dict"
   ]
  },
  {
   "cell_type": "code",
   "execution_count": 5,
   "id": "dcad7bde",
   "metadata": {},
   "outputs": [
    {
     "data": {
      "text/plain": [
       "{'point guard': 'Dirk', 'small guard': 'Sean'}"
      ]
     },
     "execution_count": 5,
     "metadata": {},
     "output_type": "execute_result"
    }
   ],
   "source": [
    "#un diccionario puede tener listas como valores\n",
    "#y podemos crearlo vacio para llenarlo despues\n",
    "team = {}\n",
    "team['point guard'] = 'Dirk'\n",
    "team['small guard'] = 'Sean'\n",
    "team"
   ]
  },
  {
   "cell_type": "code",
   "execution_count": 6,
   "id": "e59f8135",
   "metadata": {},
   "outputs": [
    {
     "name": "stdout",
     "output_type": "stream",
     "text": [
      "None\n"
     ]
    }
   ],
   "source": [
    "#que pasa si queremos obtener el valor de una llave inexistente?\n",
    "#su valor por defecto es none\n",
    "print(team.get('cajero'))"
   ]
  },
  {
   "cell_type": "code",
   "execution_count": 14,
   "id": "8fc6c47f",
   "metadata": {},
   "outputs": [
    {
     "name": "stdout",
     "output_type": "stream",
     "text": [
      "0 1 2 3 4 5 6 7 8 9 "
     ]
    }
   ],
   "source": [
    "#range(inicio, parada, paso) lo valores por defecto son (0,parada,1)\n",
    "for p in range (10):\n",
    "    print(p, end=' ')"
   ]
  },
  {
   "cell_type": "code",
   "execution_count": 16,
   "id": "7603792c",
   "metadata": {},
   "outputs": [
    {
     "data": {
      "text/plain": [
       "5"
      ]
     },
     "execution_count": 16,
     "metadata": {},
     "output_type": "execute_result"
    }
   ],
   "source": [
    "#funciones\n",
    "def count(numbers):\n",
    "    total = 0\n",
    "    for x in numbers:\n",
    "        if x < 20:\n",
    "            total += 1\n",
    "    return total\n",
    "\n",
    "list_1 = [1, 2, 7, 15, 23,17, 43, 56, 98]\n",
    "count(list_1)"
   ]
  },
  {
   "cell_type": "code",
   "execution_count": 22,
   "id": "a0b5197b",
   "metadata": {},
   "outputs": [
    {
     "name": "stdout",
     "output_type": "stream",
     "text": [
      "74\n"
     ]
    }
   ],
   "source": [
    "#iterando con diccionarios\n",
    "prices = {\n",
    "    \"spaghetti\" : 4,\n",
    "    \"lasagna\" : 5,\n",
    "    \"hamburguer\" : 2\n",
    "}\n",
    "\n",
    "quantity = {\n",
    "    \"spaghetti\" : 6,\n",
    "    \"lasagna\" : 10,\n",
    "    \"hamburguer\" : 0\n",
    "}\n",
    "\n",
    "money_spent = 0\n",
    "for i in prices:#si cambiamos por quantity el precio es el mismo\n",
    "    #y eso pasa por que los diccionarios tienen las mismas claves\n",
    "    money_spent += prices[i]*quantity[i]\n",
    "print(money_spent)"
   ]
  },
  {
   "cell_type": "code",
   "execution_count": 24,
   "id": "1e88e5b0",
   "metadata": {},
   "outputs": [
    {
     "data": {
      "text/plain": [
       "8.0"
      ]
     },
     "execution_count": 24,
     "metadata": {},
     "output_type": "execute_result"
    }
   ],
   "source": [
    "#importando modulos, existen 5 formas:\n",
    "import math\n",
    "math.sqrt(16)\n",
    "\n",
    "from math import sqrt#muy buena opcion\n",
    "sqrt(25)\n",
    "\n",
    "from math import sqrt as s#la mas usada por desarrolladores\n",
    "s(36)\n",
    "\n",
    "import math as m#lo mismo que la primera\n",
    "m.sqrt(16)\n",
    "\n",
    "from math import *#opcion poco profesional\n",
    "sqrt(64)"
   ]
  },
  {
   "cell_type": "code",
   "execution_count": 25,
   "id": "4df820f7",
   "metadata": {},
   "outputs": [
    {
     "name": "stdout",
     "output_type": "stream",
     "text": [
      "Help on built-in module math:\n",
      "\n",
      "NAME\n",
      "    math\n",
      "\n",
      "DESCRIPTION\n",
      "    This module provides access to the mathematical functions\n",
      "    defined by the C standard.\n",
      "\n",
      "FUNCTIONS\n",
      "    acos(x, /)\n",
      "        Return the arc cosine (measured in radians) of x.\n",
      "        \n",
      "        The result is between 0 and pi.\n",
      "    \n",
      "    acosh(x, /)\n",
      "        Return the inverse hyperbolic cosine of x.\n",
      "    \n",
      "    asin(x, /)\n",
      "        Return the arc sine (measured in radians) of x.\n",
      "        \n",
      "        The result is between -pi/2 and pi/2.\n",
      "    \n",
      "    asinh(x, /)\n",
      "        Return the inverse hyperbolic sine of x.\n",
      "    \n",
      "    atan(x, /)\n",
      "        Return the arc tangent (measured in radians) of x.\n",
      "        \n",
      "        The result is between -pi/2 and pi/2.\n",
      "    \n",
      "    atan2(y, x, /)\n",
      "        Return the arc tangent (measured in radians) of y/x.\n",
      "        \n",
      "        Unlike atan(y/x), the signs of both x and y are considered.\n",
      "    \n",
      "    atanh(x, /)\n",
      "        Return the inverse hyperbolic tangent of x.\n",
      "    \n",
      "    cbrt(x, /)\n",
      "        Return the cube root of x.\n",
      "    \n",
      "    ceil(x, /)\n",
      "        Return the ceiling of x as an Integral.\n",
      "        \n",
      "        This is the smallest integer >= x.\n",
      "    \n",
      "    comb(n, k, /)\n",
      "        Number of ways to choose k items from n items without repetition and without order.\n",
      "        \n",
      "        Evaluates to n! / (k! * (n - k)!) when k <= n and evaluates\n",
      "        to zero when k > n.\n",
      "        \n",
      "        Also called the binomial coefficient because it is equivalent\n",
      "        to the coefficient of k-th term in polynomial expansion of the\n",
      "        expression (1 + x)**n.\n",
      "        \n",
      "        Raises TypeError if either of the arguments are not integers.\n",
      "        Raises ValueError if either of the arguments are negative.\n",
      "    \n",
      "    copysign(x, y, /)\n",
      "        Return a float with the magnitude (absolute value) of x but the sign of y.\n",
      "        \n",
      "        On platforms that support signed zeros, copysign(1.0, -0.0)\n",
      "        returns -1.0.\n",
      "    \n",
      "    cos(x, /)\n",
      "        Return the cosine of x (measured in radians).\n",
      "    \n",
      "    cosh(x, /)\n",
      "        Return the hyperbolic cosine of x.\n",
      "    \n",
      "    degrees(x, /)\n",
      "        Convert angle x from radians to degrees.\n",
      "    \n",
      "    dist(p, q, /)\n",
      "        Return the Euclidean distance between two points p and q.\n",
      "        \n",
      "        The points should be specified as sequences (or iterables) of\n",
      "        coordinates.  Both inputs must have the same dimension.\n",
      "        \n",
      "        Roughly equivalent to:\n",
      "            sqrt(sum((px - qx) ** 2.0 for px, qx in zip(p, q)))\n",
      "    \n",
      "    erf(x, /)\n",
      "        Error function at x.\n",
      "    \n",
      "    erfc(x, /)\n",
      "        Complementary error function at x.\n",
      "    \n",
      "    exp(x, /)\n",
      "        Return e raised to the power of x.\n",
      "    \n",
      "    exp2(x, /)\n",
      "        Return 2 raised to the power of x.\n",
      "    \n",
      "    expm1(x, /)\n",
      "        Return exp(x)-1.\n",
      "        \n",
      "        This function avoids the loss of precision involved in the direct evaluation of exp(x)-1 for small x.\n",
      "    \n",
      "    fabs(x, /)\n",
      "        Return the absolute value of the float x.\n",
      "    \n",
      "    factorial(n, /)\n",
      "        Find n!.\n",
      "        \n",
      "        Raise a ValueError if x is negative or non-integral.\n",
      "    \n",
      "    floor(x, /)\n",
      "        Return the floor of x as an Integral.\n",
      "        \n",
      "        This is the largest integer <= x.\n",
      "    \n",
      "    fmod(x, y, /)\n",
      "        Return fmod(x, y), according to platform C.\n",
      "        \n",
      "        x % y may differ.\n",
      "    \n",
      "    frexp(x, /)\n",
      "        Return the mantissa and exponent of x, as pair (m, e).\n",
      "        \n",
      "        m is a float and e is an int, such that x = m * 2.**e.\n",
      "        If x is 0, m and e are both 0.  Else 0.5 <= abs(m) < 1.0.\n",
      "    \n",
      "    fsum(seq, /)\n",
      "        Return an accurate floating point sum of values in the iterable seq.\n",
      "        \n",
      "        Assumes IEEE-754 floating point arithmetic.\n",
      "    \n",
      "    gamma(x, /)\n",
      "        Gamma function at x.\n",
      "    \n",
      "    gcd(*integers)\n",
      "        Greatest Common Divisor.\n",
      "    \n",
      "    hypot(...)\n",
      "        hypot(*coordinates) -> value\n",
      "        \n",
      "        Multidimensional Euclidean distance from the origin to a point.\n",
      "        \n",
      "        Roughly equivalent to:\n",
      "            sqrt(sum(x**2 for x in coordinates))\n",
      "        \n",
      "        For a two dimensional point (x, y), gives the hypotenuse\n",
      "        using the Pythagorean theorem:  sqrt(x*x + y*y).\n",
      "        \n",
      "        For example, the hypotenuse of a 3/4/5 right triangle is:\n",
      "        \n",
      "            >>> hypot(3.0, 4.0)\n",
      "            5.0\n",
      "    \n",
      "    isclose(a, b, *, rel_tol=1e-09, abs_tol=0.0)\n",
      "        Determine whether two floating point numbers are close in value.\n",
      "        \n",
      "          rel_tol\n",
      "            maximum difference for being considered \"close\", relative to the\n",
      "            magnitude of the input values\n",
      "          abs_tol\n",
      "            maximum difference for being considered \"close\", regardless of the\n",
      "            magnitude of the input values\n",
      "        \n",
      "        Return True if a is close in value to b, and False otherwise.\n",
      "        \n",
      "        For the values to be considered close, the difference between them\n",
      "        must be smaller than at least one of the tolerances.\n",
      "        \n",
      "        -inf, inf and NaN behave similarly to the IEEE 754 Standard.  That\n",
      "        is, NaN is not close to anything, even itself.  inf and -inf are\n",
      "        only close to themselves.\n",
      "    \n",
      "    isfinite(x, /)\n",
      "        Return True if x is neither an infinity nor a NaN, and False otherwise.\n",
      "    \n",
      "    isinf(x, /)\n",
      "        Return True if x is a positive or negative infinity, and False otherwise.\n",
      "    \n",
      "    isnan(x, /)\n",
      "        Return True if x is a NaN (not a number), and False otherwise.\n",
      "    \n",
      "    isqrt(n, /)\n",
      "        Return the integer part of the square root of the input.\n",
      "    \n",
      "    lcm(*integers)\n",
      "        Least Common Multiple.\n",
      "    \n",
      "    ldexp(x, i, /)\n",
      "        Return x * (2**i).\n",
      "        \n",
      "        This is essentially the inverse of frexp().\n",
      "    \n",
      "    lgamma(x, /)\n",
      "        Natural logarithm of absolute value of Gamma function at x.\n",
      "    \n",
      "    log(...)\n",
      "        log(x, [base=math.e])\n",
      "        Return the logarithm of x to the given base.\n",
      "        \n",
      "        If the base not specified, returns the natural logarithm (base e) of x.\n",
      "    \n",
      "    log10(x, /)\n",
      "        Return the base 10 logarithm of x.\n",
      "    \n",
      "    log1p(x, /)\n",
      "        Return the natural logarithm of 1+x (base e).\n",
      "        \n",
      "        The result is computed in a way which is accurate for x near zero.\n",
      "    \n",
      "    log2(x, /)\n",
      "        Return the base 2 logarithm of x.\n",
      "    \n",
      "    modf(x, /)\n",
      "        Return the fractional and integer parts of x.\n",
      "        \n",
      "        Both results carry the sign of x and are floats.\n",
      "    \n",
      "    nextafter(x, y, /)\n",
      "        Return the next floating-point value after x towards y.\n",
      "    \n",
      "    perm(n, k=None, /)\n",
      "        Number of ways to choose k items from n items without repetition and with order.\n",
      "        \n",
      "        Evaluates to n! / (n - k)! when k <= n and evaluates\n",
      "        to zero when k > n.\n",
      "        \n",
      "        If k is not specified or is None, then k defaults to n\n",
      "        and the function returns n!.\n",
      "        \n",
      "        Raises TypeError if either of the arguments are not integers.\n",
      "        Raises ValueError if either of the arguments are negative.\n",
      "    \n",
      "    pow(x, y, /)\n",
      "        Return x**y (x to the power of y).\n",
      "    \n",
      "    prod(iterable, /, *, start=1)\n",
      "        Calculate the product of all the elements in the input iterable.\n",
      "        \n",
      "        The default start value for the product is 1.\n",
      "        \n",
      "        When the iterable is empty, return the start value.  This function is\n",
      "        intended specifically for use with numeric values and may reject\n",
      "        non-numeric types.\n",
      "    \n",
      "    radians(x, /)\n",
      "        Convert angle x from degrees to radians.\n",
      "    \n",
      "    remainder(x, y, /)\n",
      "        Difference between x and the closest integer multiple of y.\n",
      "        \n",
      "        Return x - n*y where n*y is the closest integer multiple of y.\n",
      "        In the case where x is exactly halfway between two multiples of\n",
      "        y, the nearest even value of n is used. The result is always exact.\n",
      "    \n",
      "    sin(x, /)\n",
      "        Return the sine of x (measured in radians).\n",
      "    \n",
      "    sinh(x, /)\n",
      "        Return the hyperbolic sine of x.\n",
      "    \n",
      "    sqrt(x, /)\n",
      "        Return the square root of x.\n",
      "    \n",
      "    tan(x, /)\n",
      "        Return the tangent of x (measured in radians).\n",
      "    \n",
      "    tanh(x, /)\n",
      "        Return the hyperbolic tangent of x.\n",
      "    \n",
      "    trunc(x, /)\n",
      "        Truncates the Real x to the nearest Integral toward 0.\n",
      "        \n",
      "        Uses the __trunc__ magic method.\n",
      "    \n",
      "    ulp(x, /)\n",
      "        Return the value of the least significant bit of the float x.\n",
      "\n",
      "DATA\n",
      "    e = 2.718281828459045\n",
      "    inf = inf\n",
      "    nan = nan\n",
      "    pi = 3.141592653589793\n",
      "    tau = 6.283185307179586\n",
      "\n",
      "FILE\n",
      "    (built-in)\n",
      "\n",
      "\n"
     ]
    }
   ],
   "source": [
    "#para ver funciones de áquetes\n",
    "help(math)\n",
    "#mas especifico seria:\n",
    "#help(math.sqrt)"
   ]
  },
  {
   "cell_type": "code",
   "execution_count": null,
   "id": "7bf607dc",
   "metadata": {},
   "outputs": [],
   "source": []
  }
 ],
 "metadata": {
  "kernelspec": {
   "display_name": "Python 3 (ipykernel)",
   "language": "python",
   "name": "python3"
  },
  "language_info": {
   "codemirror_mode": {
    "name": "ipython",
    "version": 3
   },
   "file_extension": ".py",
   "mimetype": "text/x-python",
   "name": "python",
   "nbconvert_exporter": "python",
   "pygments_lexer": "ipython3",
   "version": "3.11.5"
  }
 },
 "nbformat": 4,
 "nbformat_minor": 5
}
