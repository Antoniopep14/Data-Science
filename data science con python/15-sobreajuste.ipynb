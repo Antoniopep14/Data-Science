{
 "cells": [
  {
   "cell_type": "markdown",
   "id": "42a429c6",
   "metadata": {},
   "source": [
    "### SOBREAJUSTE"
   ]
  },
  {
   "cell_type": "markdown",
   "id": "b927be1b",
   "metadata": {},
   "source": [
    "Significa que nuestra regresion se ha enfocado tanto en un conjunto de datos particularer que no entiende el asunto, es decir estan tan bien modelados a los datos que no entienden el asunto, usualmente el ruido aleatorio viene incorporado lo que causa que este ajuste tenga baja presicion de prueba. Por ejemplo en una grafica con curvas la linea va de punto en punto en lugar de buscar la media entre los mismos.\n",
    "\n",
    "El parche principal para este error es separar el conjunto de datos en 2, entrenamiento y prueba 80-20"
   ]
  },
  {
   "cell_type": "markdown",
   "id": "6e2f6947",
   "metadata": {},
   "source": [
    "### SUBAJUSTE"
   ]
  },
  {
   "cell_type": "markdown",
   "id": "dad4469d",
   "metadata": {},
   "source": [
    "Significa que el modelo no ha capturado la logica subyacente de los datos, no sabe que hacer por tanto esta lejos de preveer una respuesta que sea correcta. Por ejemplo usar un modelo lineal en un grafico muy disperso y con curvas"
   ]
  },
  {
   "cell_type": "markdown",
   "id": "ed3b5e97",
   "metadata": {},
   "source": [
    "El subajuste y sobreajuste son problemas que abarcan el analisis predictivo como un todo"
   ]
  },
  {
   "cell_type": "code",
   "execution_count": null,
   "id": "1b053eb7",
   "metadata": {},
   "outputs": [],
   "source": []
  }
 ],
 "metadata": {
  "kernelspec": {
   "display_name": "Python 3 (ipykernel)",
   "language": "python",
   "name": "python3"
  },
  "language_info": {
   "codemirror_mode": {
    "name": "ipython",
    "version": 3
   },
   "file_extension": ".py",
   "mimetype": "text/x-python",
   "name": "python",
   "nbconvert_exporter": "python",
   "pygments_lexer": "ipython3",
   "version": "3.11.5"
  }
 },
 "nbformat": 4,
 "nbformat_minor": 5
}
