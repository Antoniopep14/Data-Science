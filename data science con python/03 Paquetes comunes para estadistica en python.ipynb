{
 "cells": [
  {
   "cell_type": "code",
   "execution_count": null,
   "id": "eaf39a7e",
   "metadata": {},
   "outputs": [],
   "source": [
    "import numpy as np #usado para calculo cientifico, permite trabajar con matrices multidimencionales\n",
    "import pandas as pd #permite organizar los datos en forma tabular y adjuntar etiquetas descriptivas a las filas y columnas\n",
    "import scipy #herramienta de python que comprende muchos campos para calculo cientifico\n",
    "import statsmodels.api as sm #provee bueno resumenes, facilita la comprencion de sklearn\n",
    "import matplotlib as plt #para graficacion 2D diseñada para visualizar calculos de NumPy\n",
    "import seaborn as sns #para visualizacion de python basada en matplotlib, provee interfaz de alto nivel para crear graficos estadisticos atractivos\n",
    "import sklearn #aprendizaje automatico"
   ]
  }
 ],
 "metadata": {
  "kernelspec": {
   "display_name": "Python 3 (ipykernel)",
   "language": "python",
   "name": "python3"
  },
  "language_info": {
   "codemirror_mode": {
    "name": "ipython",
    "version": 3
   },
   "file_extension": ".py",
   "mimetype": "text/x-python",
   "name": "python",
   "nbconvert_exporter": "python",
   "pygments_lexer": "ipython3",
   "version": "3.11.5"
  }
 },
 "nbformat": 4,
 "nbformat_minor": 5
}
